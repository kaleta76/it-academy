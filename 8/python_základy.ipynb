{
 "cells":[
  {
   "cell_type":"markdown",
   "source":[
    "# First program-string pring"
   ],
   "attachments":{
    
   },
   "metadata":{
    "datalore":{
     "node_id":"D1pkDyjD2qSVF7RPLFDEPx",
     "type":"MD",
     "hide_input_from_viewers":true,
     "hide_output_from_viewers":true
    }
   }
  },
  {
   "cell_type":"code",
   "source":[
    "print(\"Hello world!\")"
   ],
   "execution_count":3,
   "outputs":[
    {
     "name":"stdout",
     "text":[
      "Hello world!\n"
     ],
     "output_type":"stream"
    }
   ],
   "metadata":{
    "datalore":{
     "node_id":"lnDvKtn4NTY1y2yD2DBzJy",
     "type":"CODE",
     "hide_input_from_viewers":true,
     "hide_output_from_viewers":true
    }
   }
  },
  {
   "cell_type":"markdown",
   "source":[
    "Aká časť príkazu je reťazec\n",
    "Odpoveď: \n",
    "\"Hello World!\"\n",
    "\n",
    "Čo vytlačí príkaz na riadku 1 na konzole:\n",
    "Odpoveď:    \n",
    "Hello world!\n",
    "\n",
    "Čo by sa stalo, ak by v príkaze v riadku 1 sa zmazala zátvorka na konci?\n",
    "Odpoveď: \n",
    "Sytaktická chyba - unexpected EOF while parsing"
   ],
   "attachments":{
    
   },
   "metadata":{
    "datalore":{
     "node_id":"8c3bz90mbMRXYlFmJVAPek",
     "type":"MD",
     "hide_input_from_viewers":true,
     "hide_output_from_viewers":true
    }
   }
  },
  {
   "cell_type":"markdown",
   "source":[
    "# Reťazce a print príkaz\n",
    "\n",
    "úloha - Pridaj svoj kód!\n",
    "\n",
    "pomocou print funkcie vytlač do konzoly svoje meno, vek a záľuby...\n",
    "\n",
    "použi fstringy a premenné, zoznam na koniec zobraz ako reťazec oddelený čiarkami "
   ],
   "attachments":{
    
   },
   "metadata":{
    "datalore":{
     "node_id":"WzPCbty7ZR9eWwO4HB4fMc",
     "type":"MD",
     "hide_input_from_viewers":true,
     "hide_output_from_viewers":true
    }
   }
  },
  {
   "cell_type":"code",
   "source":[
    "meno = \"Majko\"\n",
    "vek = \"12 rokov\"\n",
    "zaluby = [\"futbal\",\"posilka\"]\n",
    "print(f\"Moje meno je: {meno}.\")\n",
    "print(f\"Moj vek je: {vek}.\")\n",
    "print(f\"Zoznam mojich záľub: {zaluby}.\")\n",
    "print(f\"Moje záľuby sú: {', '.join(zaluby)}.\")\n",
    "print(\"\")"
   ],
   "execution_count":5,
   "outputs":[
    {
     "name":"stdout",
     "text":[
      "Moje meno je: Majko.\n",
      "Moj vek je: 12 rokov.\n",
      "Zoznam mojich záľub: ['futbal', 'posilka'].\n",
      "Moje záľuby sú: futbal, posilka.\n",
      "\n"
     ],
     "output_type":"stream"
    }
   ],
   "metadata":{
    "datalore":{
     "node_id":"HgQuHiDU8lT1Of5WqtHc9w",
     "type":"CODE",
     "hide_input_from_viewers":true,
     "hide_output_from_viewers":true
    }
   }
  },
  {
   "cell_type":"markdown",
   "source":[
    "# Premenné\n",
    "úloha 1"
   ],
   "attachments":{
    
   },
   "metadata":{
    "datalore":{
     "node_id":"norWmsIF8Y5plWzeeOdEmE",
     "type":"MD",
     "hide_input_from_viewers":true,
     "hide_output_from_viewers":true
    }
   }
  },
  {
   "cell_type":"code",
   "source":[
    "song = (\"Hello, hello, how high?\")\n",
    "\n",
    "print(song)\n",
    "print(song)\n",
    "print(song)\n",
    "print(\"    \")"
   ],
   "execution_count":21,
   "outputs":[
    {
     "name":"stdout",
     "text":[
      "Hello, hello, how high?\n",
      "Hello, hello, how high?\n",
      "Hello, hello, how high?\n",
      "    \n"
     ],
     "output_type":"stream"
    }
   ],
   "metadata":{
    "datalore":{
     "node_id":"2uxYV5xrygGImpYJGX6EDY",
     "type":"CODE",
     "hide_input_from_viewers":true,
     "hide_output_from_viewers":true
    }
   }
  },
  {
   "cell_type":"markdown",
   "source":[
    "# Premenné \n",
    "úloha 2"
   ],
   "attachments":{
    
   },
   "metadata":{
    "datalore":{
     "node_id":"HKNkMffDpmNcPrJz6UveSP",
     "type":"MD",
     "hide_input_from_viewers":true,
     "hide_output_from_viewers":true
    }
   }
  },
  {
   "cell_type":"code",
   "source":[
    "fruit = \"apple\"\n",
    "#premenna fruit sa priradi k hodnote apple\n",
    "print(fruit) \n",
    "#print napise apple\n",
    "fruit = \"banana\"\n",
    "#premenna fruit sa priradi k hodnote banana\n",
    "print(fruit) \n",
    "#print napise banana\n",
    "best_fruit = fruit\n",
    "#promenna best_fruit sa priradila k hodnote banana\n",
    "print(best_fruit) \n",
    "#print napise banana"
   ],
   "execution_count":22,
   "outputs":[
    {
     "name":"stdout",
     "text":[
      "apple\n",
      "banana\n",
      "banana\n"
     ],
     "output_type":"stream"
    }
   ],
   "metadata":{
    "datalore":{
     "node_id":"gCXh0guEMNRBhAaAs8AHCo",
     "type":"CODE",
     "hide_input_from_viewers":true,
     "hide_output_from_viewers":true
    }
   }
  },
  {
   "cell_type":"markdown",
   "source":[
    "# Premenné\n",
    "úloha 3"
   ],
   "attachments":{
    
   },
   "metadata":{
    "datalore":{
     "node_id":"Qv3N42joQmbNLjTq8D8Ixq",
     "type":"MD",
     "hide_input_from_viewers":true,
     "hide_output_from_viewers":true
    }
   }
  },
  {
   "cell_type":"code",
   "source":[
    "fruit = \"apple\"\n",
    "best_fruit = fruit\n",
    "fruit = \"banana\"\n",
    "\n",
    "print(best_fruit)\n",
    "\n",
    "#čo by sa stalo keby na riadku 1 zabudol reťazec ohraničovať uvodzovkami?\n",
    "# Odpoveď : neslo by to\n",
    "\n",
    "#čo by sa stalo keby by som chcel na riadku 5 chcel vytlačit Best_fruit miesto best_fruit?\n",
    "#odpoveď : neslo by to\n",
    "\n",
    "#prečo je vystupom prikazu na riadku 5 apple a nie banana?\n",
    "# odpoveď : na druhom riadku sa premenna best_fruit priradila k apple a nezmenila sa"
   ],
   "execution_count":32,
   "outputs":[
    {
     "name":"stdout",
     "text":[
      "apple\n"
     ],
     "output_type":"stream"
    }
   ],
   "metadata":{
    "datalore":{
     "node_id":"upsH98I6begWTLnqywJwwG",
     "type":"CODE",
     "hide_input_from_viewers":true,
     "hide_output_from_viewers":true
    }
   }
  },
  {
   "cell_type":"markdown",
   "source":[
    "# Input a output"
   ],
   "attachments":{
    
   },
   "metadata":{
    "datalore":{
     "node_id":"WjB4BFkMA2htZEarnNMrwI",
     "type":"MD",
     "hide_input_from_viewers":true,
     "hide_output_from_viewers":true
    }
   }
  },
  {
   "cell_type":"code",
   "source":[
    "print(\"Hello! What's your name?\")\n",
    "\n",
    "name = input()\n",
    "\n",
    "greeting = \"Hi \" + name + \"!\"\n",
    "\n",
    "print(greeting) "
   ],
   "execution_count":9,
   "outputs":[
    {
     "name":"stdout",
     "text":[
      "Hello! What's your name?\n",
      " Majo\n",
      "Hi Majo!\n"
     ],
     "output_type":"stream"
    }
   ],
   "metadata":{
    "datalore":{
     "node_id":"mI0tDXwlYOAmu0WURByf8x",
     "type":"CODE",
     "hide_input_from_viewers":true,
     "hide_output_from_viewers":true
    }
   }
  },
  {
   "cell_type":"markdown",
   "source":[
    "# Input\n",
    "uloha 1"
   ],
   "attachments":{
    
   },
   "metadata":{
    "datalore":{
     "node_id":"aV2V8gaRW64S4pcXGcVnJ4",
     "type":"MD",
     "hide_input_from_viewers":true,
     "hide_output_from_viewers":true
    }
   }
  },
  {
   "cell_type":"code",
   "source":[
    "print(\"Hello! What's your name?\")\n",
    "#vytlaci hello whats your mame\n",
    "name = input()\n",
    "#bude hladat v konzoly co tam je napisane\n",
    "print(name)\n",
    "#vytlaci co je v konzoly\n",
    "print(\"Hi \" + \"! How are you today?\")\n",
    "#vytlaci do konzole hi lucie! How are you today?"
   ],
   "execution_count":6,
   "outputs":[
    {
     "name":"stdout",
     "text":[
      "Hello! What's your name?\n",
      " majko\n",
      "majko\n",
      "Hi ! How are you today?\n"
     ],
     "output_type":"stream"
    }
   ],
   "metadata":{
    "datalore":{
     "node_id":"qN4Mb9qQtwJfCHsE6xHENs",
     "type":"CODE",
     "hide_input_from_viewers":true,
     "hide_output_from_viewers":true
    }
   }
  },
  {
   "cell_type":"markdown",
   "source":[
    "# Input-identify\n",
    "úloha 2"
   ],
   "attachments":{
    
   },
   "metadata":{
    "datalore":{
     "node_id":"lyEUO9jVpV4jV4GrO7ntTf",
     "type":"MD",
     "hide_input_from_viewers":true,
     "hide_output_from_viewers":true
    }
   }
  },
  {
   "cell_type":"code",
   "source":[
    "name = \"Billy \" + \"Black\"\n",
    "\n",
    "print(\"Do you like \\nprogramming, \"  + name  + \"?\")\n",
    "like_programming = input()\n",
    "print(\"Great, \" + name + \", you said \" +\n",
    "like_programming + \"!\")\n",
    "\n",
    "more_programming = input(\"Do you want more programming, \" + name + \"? \\n\")\n",
    "print(\"Great, you said \" + more_programming + \" to more programming?\")\n",
    "\n",
    "# k jakemu retazci bude priradena premenna name na riadku 1\n",
    "# Odpoved billy black\n",
    "# co by sa stalo keby by som zabudol + na riadku 3\n",
    "#odpoved neslo by to"
   ],
   "execution_count":1,
   "outputs":[
    {
     "name":"stdout",
     "text":[
      "Do you like \n",
      "programming, Billy Black?\n",
      " yes\n",
      "Great, Billy Black, you said yes!\n",
      "Do you want more programming, Billy Black? \n",
      " yes\n",
      "Great, you said yes to more programming?\n"
     ],
     "output_type":"stream"
    }
   ],
   "metadata":{
    "datalore":{
     "node_id":"Ek9ifInyrzlxMUF1f7nRrV",
     "type":"CODE",
     "hide_input_from_viewers":true,
     "hide_output_from_viewers":true
    }
   }
  },
  {
   "cell_type":"markdown",
   "source":[
    "# input-modify\n",
    "úloha 3"
   ],
   "attachments":{
    
   },
   "metadata":{
    "datalore":{
     "node_id":"ddOiYE2CvvftEZ4AUrA9QK",
     "type":"MD",
     "hide_input_from_viewers":true,
     "hide_output_from_viewers":true
    }
   }
  },
  {
   "cell_type":"code",
   "source":[
    "print(\"Welcome!\\nWelcome to our restaurant!\")\n",
    "name = input(\"What's your name? \\n\")\n",
    "\n",
    "print(\"Hi, \" + name + \"!\")\n",
    "meal = input(\"We have burger kofola steak. \\n\")\n",
    "print(\"Ok. I want \" + meal + \".\") "
   ],
   "execution_count":2,
   "outputs":[
    {
     "name":"stdout",
     "text":[
      "Welcome!\n",
      "Welcome to our restaurant!\n",
      "What's your name? \n",
      " majko\n",
      "Hi, majko!\n",
      "We have burger kofola steak. \n",
      " steak\n",
      "Ok. I want steak.\n"
     ],
     "output_type":"stream"
    }
   ],
   "metadata":{
    "datalore":{
     "node_id":"0SGe38kO2XwaOfgY5Tcr7N",
     "type":"CODE",
     "hide_input_from_viewers":true,
     "hide_output_from_viewers":true
    }
   }
  },
  {
   "cell_type":"markdown",
   "source":[
    "# Čísla a pretypovanie\n",
    "úloha 1"
   ],
   "attachments":{
    
   },
   "metadata":{
    "datalore":{
     "node_id":"IPkqSTdKErfSxA19sJXuqP",
     "type":"MD",
     "hide_input_from_viewers":true,
     "hide_output_from_viewers":true
    }
   }
  },
  {
   "cell_type":"code",
   "source":[
    "print(6 + 2)\n",
    "#napise do konzoly 8\n",
    "print(6 - 2)\n",
    "#napise do konzoly 4\n",
    "print(6 * 2)\n",
    "#napise do konzoly 12 \n",
    "print(6 \/ 2)\n",
    "#napise do konzoly 3\n",
    "num = 20\n",
    "#premenna num znamena 20\n",
    "num2 = 5\n",
    "#premenna num2 znamena 5\n",
    "num = 10\n",
    "#premenna num sa priradila k hodnote 10\n",
    "result = num - num2\n",
    "#premenna result sa priradila k hodnote 5 \n",
    "print(result)\n",
    "#napise do konzole 5\n",
    "print(\"6 + 2\")\n",
    "# napise do konzole 6+2"
   ],
   "execution_count":4,
   "outputs":[
    {
     "name":"stdout",
     "text":[
      "8\n",
      "4\n",
      "12\n",
      "3.0\n",
      "5\n",
      "6 + 2\n"
     ],
     "output_type":"stream"
    }
   ],
   "metadata":{
    "datalore":{
     "node_id":"E8WeZjE0tf5bCngdC1opRb",
     "type":"CODE",
     "hide_input_from_viewers":true,
     "hide_output_from_viewers":true
    }
   }
  },
  {
   "cell_type":"markdown",
   "source":[
    "# Čísla a pretypovanie\n",
    "úloha 2"
   ],
   "attachments":{
    
   },
   "metadata":{
    "datalore":{
     "node_id":"gytdPUqo4IIIlxAV95n050",
     "type":"MD",
     "hide_input_from_viewers":true,
     "hide_output_from_viewers":true
    }
   }
  },
  {
   "cell_type":"code",
   "source":[
    "print(\"Enter a number:\")\n",
    "num = int(input()) # vloz do konzole 10\n",
    "num2 = float(input(\"Enter a number:\\n\")) # vloz do konzole 2\n",
    "\n",
    "result = num \/ num2\n",
    "result2 = 5 + 6 \/ 2\n",
    "print(result)\n",
    "print(result2)\n",
    "\n",
    "# co bude napisane v konzoly po provedeni prikazu na riadku 3\n",
    "# odpoved enter a number\n",
    "\n",
    "# jakeho typu bude hodnota premenna num a num2 \n",
    "# odpoved integer a floating point\n",
    "\n",
    "# jakeho typu bude hodnota premenna result a jekeho typu result2\n",
    "# odpoved floating point\n",
    "\n",
    "# preco prikaz print(result2) vytiskne 8.0 a nie 5.5\n",
    "# odpoved delenie ma prednost\n",
    "\n",
    "# co sa stane ak pop spusteni programu dam ako uzivatelsky vstup hodnotu hi namiesto 10 \n",
    "# odpoved ValueError "
   ],
   "execution_count":7,
   "outputs":[
    {
     "name":"stdout",
     "text":[
      "Enter a number:\n",
      " 10\n",
      "Enter a number:\n",
      " 2\n",
      "5.0\n",
      "8.0\n"
     ],
     "output_type":"stream"
    }
   ],
   "metadata":{
    "datalore":{
     "node_id":"BOiOLFdHIOUEvY6AwUCB3O",
     "type":"CODE",
     "hide_input_from_viewers":true,
     "hide_output_from_viewers":true
    }
   }
  },
  {
   "cell_type":"markdown",
   "source":[
    "# Čísla a pretypovanie\n",
    "úloha 3"
   ],
   "attachments":{
    
   },
   "metadata":{
    "datalore":{
     "node_id":"EinhvskcCL8wi1fGtiLftA",
     "type":"MD",
     "hide_input_from_viewers":true,
     "hide_output_from_viewers":true
    }
   }
  },
  {
   "cell_type":"code",
   "source":[
    "# (tempature - 32) * 5\/9\n",
    "fahrenheit = input (\"Zadaj teplotu v stupňoch fahrenheita: \\n\")\n",
    "num = float(fahrenheit)\n",
    "\n",
    "result = (num -32)*5\/9\n",
    "print(f\"Teplota v stupňoch celzia: {result}\")"
   ],
   "execution_count":17,
   "outputs":[
    {
     "name":"stdout",
     "text":[
      "Zadaj teplotu v stupňoch fahrenheita: \n",
      " 5\n",
      "Teplota v stupňoch celzia: -15.0\n"
     ],
     "output_type":"stream"
    }
   ],
   "metadata":{
    "datalore":{
     "node_id":"qQ0bCtsvsd6T4l8q5HEE1q",
     "type":"CODE",
     "hide_input_from_viewers":true,
     "hide_output_from_viewers":true
    }
   }
  },
  {
   "cell_type":"code",
   "source":[
    
   ],
   "execution_count":null,
   "outputs":[
    
   ],
   "metadata":{
    "datalore":{
     "node_id":"IsVtgCFAaFxoTfFA0muiyP",
     "type":"CODE",
     "hide_input_from_viewers":true,
     "hide_output_from_viewers":true
    }
   }
  }
 ],
 "metadata":{
  "kernelspec":{
   "display_name":"Python",
   "language":"python",
   "name":"python"
  },
  "datalore":{
   "computation_mode":"JUPYTER",
   "package_manager":"pip",
   "base_environment":"default",
   "packages":[
    
   ],
   "report_row_ids":[
    
   ],
   "version":3
  }
 },
 "nbformat":4,
 "nbformat_minor":4
}